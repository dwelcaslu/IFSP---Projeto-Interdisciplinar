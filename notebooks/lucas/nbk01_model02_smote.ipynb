{
 "cells": [
  {
   "cell_type": "code",
   "execution_count": 1,
   "id": "a7c58548-8157-44b0-b659-d50ab32e4163",
   "metadata": {},
   "outputs": [],
   "source": [
    "import sys\n",
    "sys.path.append('../../src')\n",
    "\n",
    "from collections import Counter\n",
    "\n",
    "import numpy as np\n",
    "import matplotlib.pyplot as plt\n",
    "import pandas as pd\n",
    "\n",
    "from sklearn.compose import ColumnTransformer\n",
    "from sklearn.ensemble import RandomForestClassifier\n",
    "from sklearn.impute import SimpleImputer\n",
    "from sklearn.linear_model import LogisticRegression\n",
    "from sklearn.metrics import classification_report\n",
    "from sklearn.model_selection import train_test_split, RandomizedSearchCV\n",
    "from sklearn.pipeline import Pipeline\n",
    "from sklearn.svm import SVC\n",
    "\n",
    "from imblearn.over_sampling import ADASYN, SMOTE\n",
    "\n",
    "import visualization.visualize as vis\n",
    "import models.evaluation as ev"
   ]
  },
  {
   "cell_type": "code",
   "execution_count": 2,
   "id": "f4d05634-f85e-495b-896f-90721f3ac030",
   "metadata": {},
   "outputs": [
    {
     "data": {
      "text/html": [
       "<div>\n",
       "<style scoped>\n",
       "    .dataframe tbody tr th:only-of-type {\n",
       "        vertical-align: middle;\n",
       "    }\n",
       "\n",
       "    .dataframe tbody tr th {\n",
       "        vertical-align: top;\n",
       "    }\n",
       "\n",
       "    .dataframe thead th {\n",
       "        text-align: right;\n",
       "    }\n",
       "</style>\n",
       "<table border=\"1\" class=\"dataframe\">\n",
       "  <thead>\n",
       "    <tr style=\"text-align: right;\">\n",
       "      <th></th>\n",
       "      <th>ID</th>\n",
       "      <th>AGE</th>\n",
       "      <th>SEX</th>\n",
       "      <th>INF_ANAM</th>\n",
       "      <th>STENOK_AN</th>\n",
       "      <th>FK_STENOK</th>\n",
       "      <th>IBS_POST</th>\n",
       "      <th>IBS_NASL</th>\n",
       "      <th>GB</th>\n",
       "      <th>SIM_GIPERT</th>\n",
       "      <th>...</th>\n",
       "      <th>JELUD_TAH</th>\n",
       "      <th>FIBR_JELUD</th>\n",
       "      <th>A_V_BLOK</th>\n",
       "      <th>OTEK_LANC</th>\n",
       "      <th>RAZRIV</th>\n",
       "      <th>DRESSLER</th>\n",
       "      <th>ZSN</th>\n",
       "      <th>REC_IM</th>\n",
       "      <th>P_IM_STEN</th>\n",
       "      <th>LET_IS</th>\n",
       "    </tr>\n",
       "  </thead>\n",
       "  <tbody>\n",
       "    <tr>\n",
       "      <th>0</th>\n",
       "      <td>1</td>\n",
       "      <td>77.0</td>\n",
       "      <td>1</td>\n",
       "      <td>2.0</td>\n",
       "      <td>1.0</td>\n",
       "      <td>1.0</td>\n",
       "      <td>2.0</td>\n",
       "      <td>NaN</td>\n",
       "      <td>3.0</td>\n",
       "      <td>0.0</td>\n",
       "      <td>...</td>\n",
       "      <td>0</td>\n",
       "      <td>0</td>\n",
       "      <td>0</td>\n",
       "      <td>0</td>\n",
       "      <td>0</td>\n",
       "      <td>0</td>\n",
       "      <td>0</td>\n",
       "      <td>0</td>\n",
       "      <td>0</td>\n",
       "      <td>0</td>\n",
       "    </tr>\n",
       "    <tr>\n",
       "      <th>1</th>\n",
       "      <td>2</td>\n",
       "      <td>55.0</td>\n",
       "      <td>1</td>\n",
       "      <td>1.0</td>\n",
       "      <td>0.0</td>\n",
       "      <td>0.0</td>\n",
       "      <td>0.0</td>\n",
       "      <td>0.0</td>\n",
       "      <td>0.0</td>\n",
       "      <td>0.0</td>\n",
       "      <td>...</td>\n",
       "      <td>0</td>\n",
       "      <td>0</td>\n",
       "      <td>0</td>\n",
       "      <td>0</td>\n",
       "      <td>0</td>\n",
       "      <td>0</td>\n",
       "      <td>0</td>\n",
       "      <td>0</td>\n",
       "      <td>0</td>\n",
       "      <td>0</td>\n",
       "    </tr>\n",
       "    <tr>\n",
       "      <th>2</th>\n",
       "      <td>3</td>\n",
       "      <td>52.0</td>\n",
       "      <td>1</td>\n",
       "      <td>0.0</td>\n",
       "      <td>0.0</td>\n",
       "      <td>0.0</td>\n",
       "      <td>2.0</td>\n",
       "      <td>NaN</td>\n",
       "      <td>2.0</td>\n",
       "      <td>0.0</td>\n",
       "      <td>...</td>\n",
       "      <td>0</td>\n",
       "      <td>0</td>\n",
       "      <td>0</td>\n",
       "      <td>0</td>\n",
       "      <td>0</td>\n",
       "      <td>0</td>\n",
       "      <td>0</td>\n",
       "      <td>0</td>\n",
       "      <td>0</td>\n",
       "      <td>0</td>\n",
       "    </tr>\n",
       "    <tr>\n",
       "      <th>3</th>\n",
       "      <td>4</td>\n",
       "      <td>68.0</td>\n",
       "      <td>0</td>\n",
       "      <td>0.0</td>\n",
       "      <td>0.0</td>\n",
       "      <td>0.0</td>\n",
       "      <td>2.0</td>\n",
       "      <td>NaN</td>\n",
       "      <td>2.0</td>\n",
       "      <td>0.0</td>\n",
       "      <td>...</td>\n",
       "      <td>0</td>\n",
       "      <td>0</td>\n",
       "      <td>0</td>\n",
       "      <td>0</td>\n",
       "      <td>0</td>\n",
       "      <td>0</td>\n",
       "      <td>1</td>\n",
       "      <td>0</td>\n",
       "      <td>0</td>\n",
       "      <td>0</td>\n",
       "    </tr>\n",
       "    <tr>\n",
       "      <th>4</th>\n",
       "      <td>5</td>\n",
       "      <td>60.0</td>\n",
       "      <td>1</td>\n",
       "      <td>0.0</td>\n",
       "      <td>0.0</td>\n",
       "      <td>0.0</td>\n",
       "      <td>2.0</td>\n",
       "      <td>NaN</td>\n",
       "      <td>3.0</td>\n",
       "      <td>0.0</td>\n",
       "      <td>...</td>\n",
       "      <td>0</td>\n",
       "      <td>0</td>\n",
       "      <td>0</td>\n",
       "      <td>0</td>\n",
       "      <td>0</td>\n",
       "      <td>0</td>\n",
       "      <td>0</td>\n",
       "      <td>0</td>\n",
       "      <td>0</td>\n",
       "      <td>0</td>\n",
       "    </tr>\n",
       "    <tr>\n",
       "      <th>...</th>\n",
       "      <td>...</td>\n",
       "      <td>...</td>\n",
       "      <td>...</td>\n",
       "      <td>...</td>\n",
       "      <td>...</td>\n",
       "      <td>...</td>\n",
       "      <td>...</td>\n",
       "      <td>...</td>\n",
       "      <td>...</td>\n",
       "      <td>...</td>\n",
       "      <td>...</td>\n",
       "      <td>...</td>\n",
       "      <td>...</td>\n",
       "      <td>...</td>\n",
       "      <td>...</td>\n",
       "      <td>...</td>\n",
       "      <td>...</td>\n",
       "      <td>...</td>\n",
       "      <td>...</td>\n",
       "      <td>...</td>\n",
       "      <td>...</td>\n",
       "    </tr>\n",
       "    <tr>\n",
       "      <th>1695</th>\n",
       "      <td>1696</td>\n",
       "      <td>77.0</td>\n",
       "      <td>0</td>\n",
       "      <td>0.0</td>\n",
       "      <td>4.0</td>\n",
       "      <td>2.0</td>\n",
       "      <td>1.0</td>\n",
       "      <td>NaN</td>\n",
       "      <td>2.0</td>\n",
       "      <td>0.0</td>\n",
       "      <td>...</td>\n",
       "      <td>0</td>\n",
       "      <td>0</td>\n",
       "      <td>1</td>\n",
       "      <td>0</td>\n",
       "      <td>1</td>\n",
       "      <td>0</td>\n",
       "      <td>0</td>\n",
       "      <td>0</td>\n",
       "      <td>0</td>\n",
       "      <td>3</td>\n",
       "    </tr>\n",
       "    <tr>\n",
       "      <th>1696</th>\n",
       "      <td>1697</td>\n",
       "      <td>70.0</td>\n",
       "      <td>0</td>\n",
       "      <td>0.0</td>\n",
       "      <td>6.0</td>\n",
       "      <td>2.0</td>\n",
       "      <td>1.0</td>\n",
       "      <td>NaN</td>\n",
       "      <td>2.0</td>\n",
       "      <td>0.0</td>\n",
       "      <td>...</td>\n",
       "      <td>0</td>\n",
       "      <td>0</td>\n",
       "      <td>0</td>\n",
       "      <td>0</td>\n",
       "      <td>0</td>\n",
       "      <td>0</td>\n",
       "      <td>0</td>\n",
       "      <td>0</td>\n",
       "      <td>0</td>\n",
       "      <td>1</td>\n",
       "    </tr>\n",
       "    <tr>\n",
       "      <th>1697</th>\n",
       "      <td>1698</td>\n",
       "      <td>55.0</td>\n",
       "      <td>1</td>\n",
       "      <td>3.0</td>\n",
       "      <td>6.0</td>\n",
       "      <td>2.0</td>\n",
       "      <td>2.0</td>\n",
       "      <td>NaN</td>\n",
       "      <td>0.0</td>\n",
       "      <td>0.0</td>\n",
       "      <td>...</td>\n",
       "      <td>0</td>\n",
       "      <td>0</td>\n",
       "      <td>0</td>\n",
       "      <td>0</td>\n",
       "      <td>0</td>\n",
       "      <td>0</td>\n",
       "      <td>0</td>\n",
       "      <td>1</td>\n",
       "      <td>0</td>\n",
       "      <td>6</td>\n",
       "    </tr>\n",
       "    <tr>\n",
       "      <th>1698</th>\n",
       "      <td>1699</td>\n",
       "      <td>79.0</td>\n",
       "      <td>0</td>\n",
       "      <td>2.0</td>\n",
       "      <td>2.0</td>\n",
       "      <td>2.0</td>\n",
       "      <td>1.0</td>\n",
       "      <td>NaN</td>\n",
       "      <td>2.0</td>\n",
       "      <td>0.0</td>\n",
       "      <td>...</td>\n",
       "      <td>0</td>\n",
       "      <td>0</td>\n",
       "      <td>0</td>\n",
       "      <td>1</td>\n",
       "      <td>0</td>\n",
       "      <td>0</td>\n",
       "      <td>0</td>\n",
       "      <td>0</td>\n",
       "      <td>0</td>\n",
       "      <td>1</td>\n",
       "    </tr>\n",
       "    <tr>\n",
       "      <th>1699</th>\n",
       "      <td>1700</td>\n",
       "      <td>63.0</td>\n",
       "      <td>1</td>\n",
       "      <td>2.0</td>\n",
       "      <td>NaN</td>\n",
       "      <td>NaN</td>\n",
       "      <td>NaN</td>\n",
       "      <td>NaN</td>\n",
       "      <td>2.0</td>\n",
       "      <td>0.0</td>\n",
       "      <td>...</td>\n",
       "      <td>0</td>\n",
       "      <td>0</td>\n",
       "      <td>0</td>\n",
       "      <td>0</td>\n",
       "      <td>0</td>\n",
       "      <td>0</td>\n",
       "      <td>0</td>\n",
       "      <td>0</td>\n",
       "      <td>0</td>\n",
       "      <td>1</td>\n",
       "    </tr>\n",
       "  </tbody>\n",
       "</table>\n",
       "<p>1700 rows × 124 columns</p>\n",
       "</div>"
      ],
      "text/plain": [
       "        ID   AGE  SEX  INF_ANAM  STENOK_AN  FK_STENOK  IBS_POST  IBS_NASL  \\\n",
       "0        1  77.0    1       2.0        1.0        1.0       2.0       NaN   \n",
       "1        2  55.0    1       1.0        0.0        0.0       0.0       0.0   \n",
       "2        3  52.0    1       0.0        0.0        0.0       2.0       NaN   \n",
       "3        4  68.0    0       0.0        0.0        0.0       2.0       NaN   \n",
       "4        5  60.0    1       0.0        0.0        0.0       2.0       NaN   \n",
       "...    ...   ...  ...       ...        ...        ...       ...       ...   \n",
       "1695  1696  77.0    0       0.0        4.0        2.0       1.0       NaN   \n",
       "1696  1697  70.0    0       0.0        6.0        2.0       1.0       NaN   \n",
       "1697  1698  55.0    1       3.0        6.0        2.0       2.0       NaN   \n",
       "1698  1699  79.0    0       2.0        2.0        2.0       1.0       NaN   \n",
       "1699  1700  63.0    1       2.0        NaN        NaN       NaN       NaN   \n",
       "\n",
       "       GB  SIM_GIPERT  ...  JELUD_TAH  FIBR_JELUD  A_V_BLOK  OTEK_LANC  \\\n",
       "0     3.0         0.0  ...          0           0         0          0   \n",
       "1     0.0         0.0  ...          0           0         0          0   \n",
       "2     2.0         0.0  ...          0           0         0          0   \n",
       "3     2.0         0.0  ...          0           0         0          0   \n",
       "4     3.0         0.0  ...          0           0         0          0   \n",
       "...   ...         ...  ...        ...         ...       ...        ...   \n",
       "1695  2.0         0.0  ...          0           0         1          0   \n",
       "1696  2.0         0.0  ...          0           0         0          0   \n",
       "1697  0.0         0.0  ...          0           0         0          0   \n",
       "1698  2.0         0.0  ...          0           0         0          1   \n",
       "1699  2.0         0.0  ...          0           0         0          0   \n",
       "\n",
       "      RAZRIV  DRESSLER  ZSN  REC_IM  P_IM_STEN  LET_IS  \n",
       "0          0         0    0       0          0       0  \n",
       "1          0         0    0       0          0       0  \n",
       "2          0         0    0       0          0       0  \n",
       "3          0         0    1       0          0       0  \n",
       "4          0         0    0       0          0       0  \n",
       "...      ...       ...  ...     ...        ...     ...  \n",
       "1695       1         0    0       0          0       3  \n",
       "1696       0         0    0       0          0       1  \n",
       "1697       0         0    0       1          0       6  \n",
       "1698       0         0    0       0          0       1  \n",
       "1699       0         0    0       0          0       1  \n",
       "\n",
       "[1700 rows x 124 columns]"
      ]
     },
     "execution_count": 2,
     "metadata": {},
     "output_type": "execute_result"
    }
   ],
   "source": [
    "filename = '../../data/raw/Myocardial infarction complications Database.csv'\n",
    "data = pd.read_csv(filename)\n",
    "data"
   ]
  },
  {
   "cell_type": "code",
   "execution_count": null,
   "id": "57245f72-5c44-41bc-9e7f-a3dc70ac2cbf",
   "metadata": {},
   "outputs": [],
   "source": []
  },
  {
   "cell_type": "markdown",
   "id": "5da2854c-d73b-4176-9e98-f0f35970d4ba",
   "metadata": {},
   "source": [
    "# Data Preparation"
   ]
  },
  {
   "cell_type": "code",
   "execution_count": 3,
   "id": "d37a373e-f87d-4a71-889f-45d890e9b7f6",
   "metadata": {},
   "outputs": [],
   "source": [
    "ID_COLS = ['ID']\n",
    "TARGET_COLS = ['FIBR_PREDS', 'PREDS_TAH', 'JELUD_TAH', 'FIBR_JELUD', 'A_V_BLOK',\n",
    "               'OTEK_LANC', 'RAZRIV', 'DRESSLER', 'ZSN', 'REC_IM', 'P_IM_STEN', 'LET_IS']\n",
    "TARGET_COL = 'LET_IS'"
   ]
  },
  {
   "cell_type": "code",
   "execution_count": 4,
   "id": "dc4f3108-24f3-4ee2-bbb6-3bec0de5dba1",
   "metadata": {},
   "outputs": [
    {
     "name": "stdout",
     "output_type": "stream",
     "text": [
      "data_train: (1190, 124)\n",
      "data_test: (510, 124)\n"
     ]
    }
   ],
   "source": [
    "data_train, data_test = train_test_split(data, test_size=0.3, random_state=42)\n",
    "\n",
    "print('data_train:', data_train.shape)\n",
    "print('data_test:', data_test.shape)"
   ]
  },
  {
   "cell_type": "code",
   "execution_count": 5,
   "id": "4aa4d542-72aa-478e-8cd2-0f8d5854cf35",
   "metadata": {},
   "outputs": [
    {
     "data": {
      "text/plain": [
       "0    1003\n",
       "1      76\n",
       "3      38\n",
       "6      20\n",
       "7      16\n",
       "2      15\n",
       "4      14\n",
       "5       8\n",
       "Name: LET_IS, dtype: int64"
      ]
     },
     "execution_count": 5,
     "metadata": {},
     "output_type": "execute_result"
    }
   ],
   "source": [
    "data_train[TARGET_COL].value_counts(dropna=False)"
   ]
  },
  {
   "cell_type": "code",
   "execution_count": 6,
   "id": "7ddd7ede-5f3d-4e25-9730-53064b83de35",
   "metadata": {},
   "outputs": [
    {
     "data": {
      "text/plain": [
       "0    426\n",
       "1     34\n",
       "3     16\n",
       "7     11\n",
       "4      9\n",
       "6      7\n",
       "5      4\n",
       "2      3\n",
       "Name: LET_IS, dtype: int64"
      ]
     },
     "execution_count": 6,
     "metadata": {},
     "output_type": "execute_result"
    }
   ],
   "source": [
    "data_test[TARGET_COL].value_counts(dropna=False)"
   ]
  },
  {
   "cell_type": "code",
   "execution_count": 7,
   "id": "756cf760-287e-4ae5-a7a4-a04cabdc666e",
   "metadata": {},
   "outputs": [
    {
     "name": "stdout",
     "output_type": "stream",
     "text": [
      "data_train_0: (100, 124)\n",
      "data_test_0: (903, 124)\n"
     ]
    }
   ],
   "source": [
    "data_train_0, data_test_0 = train_test_split(data_train[data_train[TARGET_COL] == 0], test_size=0.9, random_state=42)\n",
    "print('data_train_0:', data_train_0.shape)\n",
    "print('data_test_0:', data_test_0.shape)"
   ]
  },
  {
   "cell_type": "code",
   "execution_count": 8,
   "id": "c5ba4df1-4bfd-4ba7-bf5a-48d9effbd235",
   "metadata": {},
   "outputs": [
    {
     "name": "stdout",
     "output_type": "stream",
     "text": [
      "data_train: (287, 124)\n",
      "data_test: (1413, 124)\n"
     ]
    }
   ],
   "source": [
    "data_train = pd.concat([data_train_0, data_train[data_train[TARGET_COL] != 0]])\n",
    "data_test = pd.concat([data_test_0, data_test])\n",
    "print('data_train:', data_train.shape)\n",
    "print('data_test:', data_test.shape)"
   ]
  },
  {
   "cell_type": "code",
   "execution_count": 9,
   "id": "dbe338cf-ac73-49a2-8082-6225d7a781b3",
   "metadata": {},
   "outputs": [
    {
     "data": {
      "text/plain": [
       "0    100\n",
       "1     76\n",
       "3     38\n",
       "6     20\n",
       "7     16\n",
       "2     15\n",
       "4     14\n",
       "5      8\n",
       "Name: LET_IS, dtype: int64"
      ]
     },
     "execution_count": 9,
     "metadata": {},
     "output_type": "execute_result"
    }
   ],
   "source": [
    "data_train[TARGET_COL].value_counts(dropna=False)"
   ]
  },
  {
   "cell_type": "code",
   "execution_count": 10,
   "id": "7bfdaf49-5e01-4ed9-97f6-129b7b8b8675",
   "metadata": {},
   "outputs": [],
   "source": [
    "def data_preparation(x_df, y_cols, target_col):\n",
    "    x_array = x_df.drop(columns=y_cols)\n",
    "    y_true = x_df[target_col].values\n",
    "    return x_array, y_true\n",
    "\n",
    "x_train, y_train = data_preparation(data_train, TARGET_COLS+ID_COLS, TARGET_COL)\n",
    "x_test, y_test = data_preparation(data_test, TARGET_COLS+ID_COLS, TARGET_COL)"
   ]
  },
  {
   "cell_type": "code",
   "execution_count": 11,
   "id": "c8795730-20d1-441b-893d-546d0a722b5b",
   "metadata": {},
   "outputs": [
    {
     "data": {
      "text/html": [
       "<div>\n",
       "<style scoped>\n",
       "    .dataframe tbody tr th:only-of-type {\n",
       "        vertical-align: middle;\n",
       "    }\n",
       "\n",
       "    .dataframe tbody tr th {\n",
       "        vertical-align: top;\n",
       "    }\n",
       "\n",
       "    .dataframe thead th {\n",
       "        text-align: right;\n",
       "    }\n",
       "</style>\n",
       "<table border=\"1\" class=\"dataframe\">\n",
       "  <thead>\n",
       "    <tr style=\"text-align: right;\">\n",
       "      <th></th>\n",
       "      <th>AGE</th>\n",
       "      <th>SEX</th>\n",
       "      <th>INF_ANAM</th>\n",
       "      <th>STENOK_AN</th>\n",
       "      <th>FK_STENOK</th>\n",
       "      <th>IBS_POST</th>\n",
       "      <th>IBS_NASL</th>\n",
       "      <th>GB</th>\n",
       "      <th>SIM_GIPERT</th>\n",
       "      <th>DLIT_AG</th>\n",
       "      <th>...</th>\n",
       "      <th>NOT_NA_1_n</th>\n",
       "      <th>NOT_NA_2_n</th>\n",
       "      <th>NOT_NA_3_n</th>\n",
       "      <th>LID_S_n</th>\n",
       "      <th>B_BLOK_S_n</th>\n",
       "      <th>ANT_CA_S_n</th>\n",
       "      <th>GEPAR_S_n</th>\n",
       "      <th>ASP_S_n</th>\n",
       "      <th>TIKL_S_n</th>\n",
       "      <th>TRENT_S_n</th>\n",
       "    </tr>\n",
       "  </thead>\n",
       "  <tbody>\n",
       "    <tr>\n",
       "      <th>854</th>\n",
       "      <td>71.0</td>\n",
       "      <td>0</td>\n",
       "      <td>1.0</td>\n",
       "      <td>0.0</td>\n",
       "      <td>0.0</td>\n",
       "      <td>0.0</td>\n",
       "      <td>NaN</td>\n",
       "      <td>2.0</td>\n",
       "      <td>0.0</td>\n",
       "      <td>2.0</td>\n",
       "      <td>...</td>\n",
       "      <td>1.0</td>\n",
       "      <td>0.0</td>\n",
       "      <td>0.0</td>\n",
       "      <td>1.0</td>\n",
       "      <td>0.0</td>\n",
       "      <td>1.0</td>\n",
       "      <td>0.0</td>\n",
       "      <td>0.0</td>\n",
       "      <td>0.0</td>\n",
       "      <td>1.0</td>\n",
       "    </tr>\n",
       "    <tr>\n",
       "      <th>1020</th>\n",
       "      <td>76.0</td>\n",
       "      <td>1</td>\n",
       "      <td>1.0</td>\n",
       "      <td>0.0</td>\n",
       "      <td>0.0</td>\n",
       "      <td>0.0</td>\n",
       "      <td>NaN</td>\n",
       "      <td>0.0</td>\n",
       "      <td>0.0</td>\n",
       "      <td>0.0</td>\n",
       "      <td>...</td>\n",
       "      <td>0.0</td>\n",
       "      <td>0.0</td>\n",
       "      <td>1.0</td>\n",
       "      <td>1.0</td>\n",
       "      <td>0.0</td>\n",
       "      <td>0.0</td>\n",
       "      <td>0.0</td>\n",
       "      <td>0.0</td>\n",
       "      <td>0.0</td>\n",
       "      <td>1.0</td>\n",
       "    </tr>\n",
       "    <tr>\n",
       "      <th>665</th>\n",
       "      <td>61.0</td>\n",
       "      <td>1</td>\n",
       "      <td>1.0</td>\n",
       "      <td>1.0</td>\n",
       "      <td>2.0</td>\n",
       "      <td>1.0</td>\n",
       "      <td>NaN</td>\n",
       "      <td>0.0</td>\n",
       "      <td>0.0</td>\n",
       "      <td>0.0</td>\n",
       "      <td>...</td>\n",
       "      <td>0.0</td>\n",
       "      <td>0.0</td>\n",
       "      <td>0.0</td>\n",
       "      <td>0.0</td>\n",
       "      <td>1.0</td>\n",
       "      <td>0.0</td>\n",
       "      <td>1.0</td>\n",
       "      <td>1.0</td>\n",
       "      <td>0.0</td>\n",
       "      <td>0.0</td>\n",
       "    </tr>\n",
       "    <tr>\n",
       "      <th>5</th>\n",
       "      <td>64.0</td>\n",
       "      <td>1</td>\n",
       "      <td>0.0</td>\n",
       "      <td>1.0</td>\n",
       "      <td>2.0</td>\n",
       "      <td>1.0</td>\n",
       "      <td>NaN</td>\n",
       "      <td>0.0</td>\n",
       "      <td>0.0</td>\n",
       "      <td>0.0</td>\n",
       "      <td>...</td>\n",
       "      <td>0.0</td>\n",
       "      <td>0.0</td>\n",
       "      <td>0.0</td>\n",
       "      <td>0.0</td>\n",
       "      <td>1.0</td>\n",
       "      <td>0.0</td>\n",
       "      <td>1.0</td>\n",
       "      <td>1.0</td>\n",
       "      <td>0.0</td>\n",
       "      <td>0.0</td>\n",
       "    </tr>\n",
       "    <tr>\n",
       "      <th>1303</th>\n",
       "      <td>NaN</td>\n",
       "      <td>1</td>\n",
       "      <td>1.0</td>\n",
       "      <td>3.0</td>\n",
       "      <td>2.0</td>\n",
       "      <td>1.0</td>\n",
       "      <td>NaN</td>\n",
       "      <td>2.0</td>\n",
       "      <td>0.0</td>\n",
       "      <td>5.0</td>\n",
       "      <td>...</td>\n",
       "      <td>0.0</td>\n",
       "      <td>0.0</td>\n",
       "      <td>0.0</td>\n",
       "      <td>1.0</td>\n",
       "      <td>0.0</td>\n",
       "      <td>1.0</td>\n",
       "      <td>0.0</td>\n",
       "      <td>1.0</td>\n",
       "      <td>0.0</td>\n",
       "      <td>0.0</td>\n",
       "    </tr>\n",
       "    <tr>\n",
       "      <th>...</th>\n",
       "      <td>...</td>\n",
       "      <td>...</td>\n",
       "      <td>...</td>\n",
       "      <td>...</td>\n",
       "      <td>...</td>\n",
       "      <td>...</td>\n",
       "      <td>...</td>\n",
       "      <td>...</td>\n",
       "      <td>...</td>\n",
       "      <td>...</td>\n",
       "      <td>...</td>\n",
       "      <td>...</td>\n",
       "      <td>...</td>\n",
       "      <td>...</td>\n",
       "      <td>...</td>\n",
       "      <td>...</td>\n",
       "      <td>...</td>\n",
       "      <td>...</td>\n",
       "      <td>...</td>\n",
       "      <td>...</td>\n",
       "      <td>...</td>\n",
       "    </tr>\n",
       "    <tr>\n",
       "      <th>1437</th>\n",
       "      <td>65.0</td>\n",
       "      <td>1</td>\n",
       "      <td>3.0</td>\n",
       "      <td>5.0</td>\n",
       "      <td>2.0</td>\n",
       "      <td>2.0</td>\n",
       "      <td>NaN</td>\n",
       "      <td>3.0</td>\n",
       "      <td>0.0</td>\n",
       "      <td>NaN</td>\n",
       "      <td>...</td>\n",
       "      <td>0.0</td>\n",
       "      <td>0.0</td>\n",
       "      <td>1.0</td>\n",
       "      <td>1.0</td>\n",
       "      <td>0.0</td>\n",
       "      <td>1.0</td>\n",
       "      <td>1.0</td>\n",
       "      <td>0.0</td>\n",
       "      <td>0.0</td>\n",
       "      <td>1.0</td>\n",
       "    </tr>\n",
       "    <tr>\n",
       "      <th>1515</th>\n",
       "      <td>63.0</td>\n",
       "      <td>1</td>\n",
       "      <td>1.0</td>\n",
       "      <td>6.0</td>\n",
       "      <td>2.0</td>\n",
       "      <td>2.0</td>\n",
       "      <td>NaN</td>\n",
       "      <td>2.0</td>\n",
       "      <td>0.0</td>\n",
       "      <td>NaN</td>\n",
       "      <td>...</td>\n",
       "      <td>0.0</td>\n",
       "      <td>0.0</td>\n",
       "      <td>0.0</td>\n",
       "      <td>1.0</td>\n",
       "      <td>0.0</td>\n",
       "      <td>1.0</td>\n",
       "      <td>1.0</td>\n",
       "      <td>0.0</td>\n",
       "      <td>0.0</td>\n",
       "      <td>0.0</td>\n",
       "    </tr>\n",
       "    <tr>\n",
       "      <th>1482</th>\n",
       "      <td>72.0</td>\n",
       "      <td>1</td>\n",
       "      <td>1.0</td>\n",
       "      <td>1.0</td>\n",
       "      <td>2.0</td>\n",
       "      <td>1.0</td>\n",
       "      <td>NaN</td>\n",
       "      <td>2.0</td>\n",
       "      <td>0.0</td>\n",
       "      <td>7.0</td>\n",
       "      <td>...</td>\n",
       "      <td>0.0</td>\n",
       "      <td>NaN</td>\n",
       "      <td>NaN</td>\n",
       "      <td>0.0</td>\n",
       "      <td>NaN</td>\n",
       "      <td>NaN</td>\n",
       "      <td>NaN</td>\n",
       "      <td>NaN</td>\n",
       "      <td>NaN</td>\n",
       "      <td>NaN</td>\n",
       "    </tr>\n",
       "    <tr>\n",
       "      <th>1638</th>\n",
       "      <td>63.0</td>\n",
       "      <td>0</td>\n",
       "      <td>3.0</td>\n",
       "      <td>2.0</td>\n",
       "      <td>2.0</td>\n",
       "      <td>1.0</td>\n",
       "      <td>NaN</td>\n",
       "      <td>2.0</td>\n",
       "      <td>0.0</td>\n",
       "      <td>NaN</td>\n",
       "      <td>...</td>\n",
       "      <td>0.0</td>\n",
       "      <td>NaN</td>\n",
       "      <td>NaN</td>\n",
       "      <td>0.0</td>\n",
       "      <td>0.0</td>\n",
       "      <td>0.0</td>\n",
       "      <td>0.0</td>\n",
       "      <td>0.0</td>\n",
       "      <td>0.0</td>\n",
       "      <td>0.0</td>\n",
       "    </tr>\n",
       "    <tr>\n",
       "      <th>1459</th>\n",
       "      <td>64.0</td>\n",
       "      <td>0</td>\n",
       "      <td>1.0</td>\n",
       "      <td>1.0</td>\n",
       "      <td>2.0</td>\n",
       "      <td>2.0</td>\n",
       "      <td>NaN</td>\n",
       "      <td>2.0</td>\n",
       "      <td>0.0</td>\n",
       "      <td>6.0</td>\n",
       "      <td>...</td>\n",
       "      <td>0.0</td>\n",
       "      <td>1.0</td>\n",
       "      <td>0.0</td>\n",
       "      <td>0.0</td>\n",
       "      <td>0.0</td>\n",
       "      <td>1.0</td>\n",
       "      <td>1.0</td>\n",
       "      <td>0.0</td>\n",
       "      <td>0.0</td>\n",
       "      <td>1.0</td>\n",
       "    </tr>\n",
       "  </tbody>\n",
       "</table>\n",
       "<p>287 rows × 111 columns</p>\n",
       "</div>"
      ],
      "text/plain": [
       "       AGE  SEX  INF_ANAM  STENOK_AN  FK_STENOK  IBS_POST  IBS_NASL   GB  \\\n",
       "854   71.0    0       1.0        0.0        0.0       0.0       NaN  2.0   \n",
       "1020  76.0    1       1.0        0.0        0.0       0.0       NaN  0.0   \n",
       "665   61.0    1       1.0        1.0        2.0       1.0       NaN  0.0   \n",
       "5     64.0    1       0.0        1.0        2.0       1.0       NaN  0.0   \n",
       "1303   NaN    1       1.0        3.0        2.0       1.0       NaN  2.0   \n",
       "...    ...  ...       ...        ...        ...       ...       ...  ...   \n",
       "1437  65.0    1       3.0        5.0        2.0       2.0       NaN  3.0   \n",
       "1515  63.0    1       1.0        6.0        2.0       2.0       NaN  2.0   \n",
       "1482  72.0    1       1.0        1.0        2.0       1.0       NaN  2.0   \n",
       "1638  63.0    0       3.0        2.0        2.0       1.0       NaN  2.0   \n",
       "1459  64.0    0       1.0        1.0        2.0       2.0       NaN  2.0   \n",
       "\n",
       "      SIM_GIPERT  DLIT_AG  ...  NOT_NA_1_n  NOT_NA_2_n  NOT_NA_3_n  LID_S_n  \\\n",
       "854          0.0      2.0  ...         1.0         0.0         0.0      1.0   \n",
       "1020         0.0      0.0  ...         0.0         0.0         1.0      1.0   \n",
       "665          0.0      0.0  ...         0.0         0.0         0.0      0.0   \n",
       "5            0.0      0.0  ...         0.0         0.0         0.0      0.0   \n",
       "1303         0.0      5.0  ...         0.0         0.0         0.0      1.0   \n",
       "...          ...      ...  ...         ...         ...         ...      ...   \n",
       "1437         0.0      NaN  ...         0.0         0.0         1.0      1.0   \n",
       "1515         0.0      NaN  ...         0.0         0.0         0.0      1.0   \n",
       "1482         0.0      7.0  ...         0.0         NaN         NaN      0.0   \n",
       "1638         0.0      NaN  ...         0.0         NaN         NaN      0.0   \n",
       "1459         0.0      6.0  ...         0.0         1.0         0.0      0.0   \n",
       "\n",
       "      B_BLOK_S_n  ANT_CA_S_n  GEPAR_S_n  ASP_S_n  TIKL_S_n  TRENT_S_n  \n",
       "854          0.0         1.0        0.0      0.0       0.0        1.0  \n",
       "1020         0.0         0.0        0.0      0.0       0.0        1.0  \n",
       "665          1.0         0.0        1.0      1.0       0.0        0.0  \n",
       "5            1.0         0.0        1.0      1.0       0.0        0.0  \n",
       "1303         0.0         1.0        0.0      1.0       0.0        0.0  \n",
       "...          ...         ...        ...      ...       ...        ...  \n",
       "1437         0.0         1.0        1.0      0.0       0.0        1.0  \n",
       "1515         0.0         1.0        1.0      0.0       0.0        0.0  \n",
       "1482         NaN         NaN        NaN      NaN       NaN        NaN  \n",
       "1638         0.0         0.0        0.0      0.0       0.0        0.0  \n",
       "1459         0.0         1.0        1.0      0.0       0.0        1.0  \n",
       "\n",
       "[287 rows x 111 columns]"
      ]
     },
     "execution_count": 11,
     "metadata": {},
     "output_type": "execute_result"
    }
   ],
   "source": [
    "x_train"
   ]
  },
  {
   "cell_type": "code",
   "execution_count": 12,
   "id": "ad093102-812f-4e22-8c2b-224d87a7d136",
   "metadata": {},
   "outputs": [
    {
     "data": {
      "text/plain": [
       "array([0, 0, 0, 0, 0, 0, 0, 0, 0, 0, 0, 0, 0, 0, 0, 0, 0, 0, 0, 0, 0, 0,\n",
       "       0, 0, 0, 0, 0, 0, 0, 0, 0, 0, 0, 0, 0, 0, 0, 0, 0, 0, 0, 0, 0, 0,\n",
       "       0, 0, 0, 0, 0, 0, 0, 0, 0, 0, 0, 0, 0, 0, 0, 0, 0, 0, 0, 0, 0, 0,\n",
       "       0, 0, 0, 0, 0, 0, 0, 0, 0, 0, 0, 0, 0, 0, 0, 0, 0, 0, 0, 0, 0, 0,\n",
       "       0, 0, 0, 0, 0, 0, 0, 0, 0, 0, 0, 0, 3, 3, 1, 6, 5, 1, 1, 3, 2, 3,\n",
       "       3, 3, 4, 3, 4, 1, 5, 1, 1, 1, 1, 1, 1, 1, 6, 3, 3, 1, 4, 1, 7, 1,\n",
       "       3, 3, 3, 7, 1, 1, 3, 7, 2, 1, 4, 4, 1, 1, 1, 3, 3, 6, 1, 2, 2, 2,\n",
       "       3, 3, 1, 1, 3, 7, 4, 2, 1, 5, 1, 1, 2, 1, 3, 6, 2, 1, 1, 1, 1, 1,\n",
       "       1, 1, 1, 4, 7, 3, 1, 3, 2, 1, 1, 7, 6, 6, 4, 7, 7, 7, 1, 4, 5, 4,\n",
       "       6, 1, 1, 6, 1, 3, 1, 1, 3, 1, 1, 6, 6, 3, 1, 1, 7, 1, 6, 3, 1, 1,\n",
       "       6, 5, 6, 1, 1, 6, 1, 5, 3, 1, 3, 1, 1, 7, 3, 1, 2, 3, 3, 4, 4, 1,\n",
       "       2, 1, 1, 7, 1, 2, 3, 5, 6, 2, 1, 6, 6, 3, 1, 6, 3, 1, 5, 1, 7, 1,\n",
       "       3, 1, 1, 4, 3, 1, 7, 1, 1, 6, 3, 2, 1, 7, 3, 3, 7, 6, 2, 1, 1, 1,\n",
       "       4], dtype=int64)"
      ]
     },
     "execution_count": 12,
     "metadata": {},
     "output_type": "execute_result"
    }
   ],
   "source": [
    "y_train"
   ]
  },
  {
   "cell_type": "code",
   "execution_count": 13,
   "id": "f922dae6-7366-4096-965d-b7ebfc5c01a8",
   "metadata": {},
   "outputs": [
    {
     "data": {
      "text/html": [
       "<div>\n",
       "<style scoped>\n",
       "    .dataframe tbody tr th:only-of-type {\n",
       "        vertical-align: middle;\n",
       "    }\n",
       "\n",
       "    .dataframe tbody tr th {\n",
       "        vertical-align: top;\n",
       "    }\n",
       "\n",
       "    .dataframe thead th {\n",
       "        text-align: right;\n",
       "    }\n",
       "</style>\n",
       "<table border=\"1\" class=\"dataframe\">\n",
       "  <thead>\n",
       "    <tr style=\"text-align: right;\">\n",
       "      <th></th>\n",
       "      <th>AGE</th>\n",
       "      <th>SEX</th>\n",
       "      <th>INF_ANAM</th>\n",
       "      <th>STENOK_AN</th>\n",
       "      <th>FK_STENOK</th>\n",
       "      <th>IBS_POST</th>\n",
       "      <th>IBS_NASL</th>\n",
       "      <th>GB</th>\n",
       "      <th>SIM_GIPERT</th>\n",
       "      <th>DLIT_AG</th>\n",
       "      <th>...</th>\n",
       "      <th>NOT_NA_1_n</th>\n",
       "      <th>NOT_NA_2_n</th>\n",
       "      <th>NOT_NA_3_n</th>\n",
       "      <th>LID_S_n</th>\n",
       "      <th>B_BLOK_S_n</th>\n",
       "      <th>ANT_CA_S_n</th>\n",
       "      <th>GEPAR_S_n</th>\n",
       "      <th>ASP_S_n</th>\n",
       "      <th>TIKL_S_n</th>\n",
       "      <th>TRENT_S_n</th>\n",
       "    </tr>\n",
       "  </thead>\n",
       "  <tbody>\n",
       "    <tr>\n",
       "      <th>580</th>\n",
       "      <td>50.0</td>\n",
       "      <td>0</td>\n",
       "      <td>0.0</td>\n",
       "      <td>6.0</td>\n",
       "      <td>2.0</td>\n",
       "      <td>2.0</td>\n",
       "      <td>1.0</td>\n",
       "      <td>2.0</td>\n",
       "      <td>0.0</td>\n",
       "      <td>7.0</td>\n",
       "      <td>...</td>\n",
       "      <td>0.0</td>\n",
       "      <td>0.0</td>\n",
       "      <td>0.0</td>\n",
       "      <td>0.0</td>\n",
       "      <td>0.0</td>\n",
       "      <td>0.0</td>\n",
       "      <td>1.0</td>\n",
       "      <td>1.0</td>\n",
       "      <td>0.0</td>\n",
       "      <td>0.0</td>\n",
       "    </tr>\n",
       "    <tr>\n",
       "      <th>1420</th>\n",
       "      <td>70.0</td>\n",
       "      <td>0</td>\n",
       "      <td>1.0</td>\n",
       "      <td>1.0</td>\n",
       "      <td>2.0</td>\n",
       "      <td>1.0</td>\n",
       "      <td>NaN</td>\n",
       "      <td>2.0</td>\n",
       "      <td>0.0</td>\n",
       "      <td>7.0</td>\n",
       "      <td>...</td>\n",
       "      <td>0.0</td>\n",
       "      <td>0.0</td>\n",
       "      <td>0.0</td>\n",
       "      <td>0.0</td>\n",
       "      <td>0.0</td>\n",
       "      <td>0.0</td>\n",
       "      <td>1.0</td>\n",
       "      <td>1.0</td>\n",
       "      <td>0.0</td>\n",
       "      <td>0.0</td>\n",
       "    </tr>\n",
       "    <tr>\n",
       "      <th>645</th>\n",
       "      <td>50.0</td>\n",
       "      <td>1</td>\n",
       "      <td>0.0</td>\n",
       "      <td>0.0</td>\n",
       "      <td>0.0</td>\n",
       "      <td>0.0</td>\n",
       "      <td>NaN</td>\n",
       "      <td>2.0</td>\n",
       "      <td>0.0</td>\n",
       "      <td>1.0</td>\n",
       "      <td>...</td>\n",
       "      <td>0.0</td>\n",
       "      <td>0.0</td>\n",
       "      <td>0.0</td>\n",
       "      <td>1.0</td>\n",
       "      <td>0.0</td>\n",
       "      <td>1.0</td>\n",
       "      <td>1.0</td>\n",
       "      <td>1.0</td>\n",
       "      <td>0.0</td>\n",
       "      <td>1.0</td>\n",
       "    </tr>\n",
       "    <tr>\n",
       "      <th>875</th>\n",
       "      <td>40.0</td>\n",
       "      <td>1</td>\n",
       "      <td>0.0</td>\n",
       "      <td>1.0</td>\n",
       "      <td>2.0</td>\n",
       "      <td>1.0</td>\n",
       "      <td>NaN</td>\n",
       "      <td>3.0</td>\n",
       "      <td>0.0</td>\n",
       "      <td>5.0</td>\n",
       "      <td>...</td>\n",
       "      <td>0.0</td>\n",
       "      <td>0.0</td>\n",
       "      <td>0.0</td>\n",
       "      <td>0.0</td>\n",
       "      <td>0.0</td>\n",
       "      <td>1.0</td>\n",
       "      <td>1.0</td>\n",
       "      <td>0.0</td>\n",
       "      <td>0.0</td>\n",
       "      <td>0.0</td>\n",
       "    </tr>\n",
       "    <tr>\n",
       "      <th>446</th>\n",
       "      <td>63.0</td>\n",
       "      <td>0</td>\n",
       "      <td>0.0</td>\n",
       "      <td>0.0</td>\n",
       "      <td>0.0</td>\n",
       "      <td>0.0</td>\n",
       "      <td>NaN</td>\n",
       "      <td>2.0</td>\n",
       "      <td>0.0</td>\n",
       "      <td>NaN</td>\n",
       "      <td>...</td>\n",
       "      <td>0.0</td>\n",
       "      <td>0.0</td>\n",
       "      <td>0.0</td>\n",
       "      <td>0.0</td>\n",
       "      <td>0.0</td>\n",
       "      <td>1.0</td>\n",
       "      <td>1.0</td>\n",
       "      <td>1.0</td>\n",
       "      <td>0.0</td>\n",
       "      <td>0.0</td>\n",
       "    </tr>\n",
       "    <tr>\n",
       "      <th>...</th>\n",
       "      <td>...</td>\n",
       "      <td>...</td>\n",
       "      <td>...</td>\n",
       "      <td>...</td>\n",
       "      <td>...</td>\n",
       "      <td>...</td>\n",
       "      <td>...</td>\n",
       "      <td>...</td>\n",
       "      <td>...</td>\n",
       "      <td>...</td>\n",
       "      <td>...</td>\n",
       "      <td>...</td>\n",
       "      <td>...</td>\n",
       "      <td>...</td>\n",
       "      <td>...</td>\n",
       "      <td>...</td>\n",
       "      <td>...</td>\n",
       "      <td>...</td>\n",
       "      <td>...</td>\n",
       "      <td>...</td>\n",
       "      <td>...</td>\n",
       "    </tr>\n",
       "    <tr>\n",
       "      <th>1228</th>\n",
       "      <td>62.0</td>\n",
       "      <td>1</td>\n",
       "      <td>0.0</td>\n",
       "      <td>4.0</td>\n",
       "      <td>2.0</td>\n",
       "      <td>1.0</td>\n",
       "      <td>NaN</td>\n",
       "      <td>0.0</td>\n",
       "      <td>0.0</td>\n",
       "      <td>0.0</td>\n",
       "      <td>...</td>\n",
       "      <td>0.0</td>\n",
       "      <td>0.0</td>\n",
       "      <td>0.0</td>\n",
       "      <td>0.0</td>\n",
       "      <td>0.0</td>\n",
       "      <td>0.0</td>\n",
       "      <td>1.0</td>\n",
       "      <td>1.0</td>\n",
       "      <td>0.0</td>\n",
       "      <td>0.0</td>\n",
       "    </tr>\n",
       "    <tr>\n",
       "      <th>471</th>\n",
       "      <td>43.0</td>\n",
       "      <td>1</td>\n",
       "      <td>1.0</td>\n",
       "      <td>0.0</td>\n",
       "      <td>0.0</td>\n",
       "      <td>2.0</td>\n",
       "      <td>NaN</td>\n",
       "      <td>0.0</td>\n",
       "      <td>0.0</td>\n",
       "      <td>0.0</td>\n",
       "      <td>...</td>\n",
       "      <td>0.0</td>\n",
       "      <td>0.0</td>\n",
       "      <td>0.0</td>\n",
       "      <td>0.0</td>\n",
       "      <td>0.0</td>\n",
       "      <td>1.0</td>\n",
       "      <td>0.0</td>\n",
       "      <td>0.0</td>\n",
       "      <td>0.0</td>\n",
       "      <td>1.0</td>\n",
       "    </tr>\n",
       "    <tr>\n",
       "      <th>322</th>\n",
       "      <td>69.0</td>\n",
       "      <td>1</td>\n",
       "      <td>0.0</td>\n",
       "      <td>0.0</td>\n",
       "      <td>0.0</td>\n",
       "      <td>0.0</td>\n",
       "      <td>0.0</td>\n",
       "      <td>0.0</td>\n",
       "      <td>0.0</td>\n",
       "      <td>0.0</td>\n",
       "      <td>...</td>\n",
       "      <td>0.0</td>\n",
       "      <td>0.0</td>\n",
       "      <td>0.0</td>\n",
       "      <td>0.0</td>\n",
       "      <td>0.0</td>\n",
       "      <td>1.0</td>\n",
       "      <td>1.0</td>\n",
       "      <td>1.0</td>\n",
       "      <td>0.0</td>\n",
       "      <td>0.0</td>\n",
       "    </tr>\n",
       "    <tr>\n",
       "      <th>1235</th>\n",
       "      <td>80.0</td>\n",
       "      <td>0</td>\n",
       "      <td>0.0</td>\n",
       "      <td>0.0</td>\n",
       "      <td>0.0</td>\n",
       "      <td>2.0</td>\n",
       "      <td>NaN</td>\n",
       "      <td>2.0</td>\n",
       "      <td>0.0</td>\n",
       "      <td>6.0</td>\n",
       "      <td>...</td>\n",
       "      <td>0.0</td>\n",
       "      <td>0.0</td>\n",
       "      <td>0.0</td>\n",
       "      <td>0.0</td>\n",
       "      <td>0.0</td>\n",
       "      <td>1.0</td>\n",
       "      <td>1.0</td>\n",
       "      <td>1.0</td>\n",
       "      <td>0.0</td>\n",
       "      <td>0.0</td>\n",
       "    </tr>\n",
       "    <tr>\n",
       "      <th>660</th>\n",
       "      <td>63.0</td>\n",
       "      <td>1</td>\n",
       "      <td>1.0</td>\n",
       "      <td>6.0</td>\n",
       "      <td>2.0</td>\n",
       "      <td>1.0</td>\n",
       "      <td>NaN</td>\n",
       "      <td>3.0</td>\n",
       "      <td>0.0</td>\n",
       "      <td>7.0</td>\n",
       "      <td>...</td>\n",
       "      <td>0.0</td>\n",
       "      <td>0.0</td>\n",
       "      <td>0.0</td>\n",
       "      <td>0.0</td>\n",
       "      <td>0.0</td>\n",
       "      <td>1.0</td>\n",
       "      <td>1.0</td>\n",
       "      <td>0.0</td>\n",
       "      <td>0.0</td>\n",
       "      <td>1.0</td>\n",
       "    </tr>\n",
       "  </tbody>\n",
       "</table>\n",
       "<p>1413 rows × 111 columns</p>\n",
       "</div>"
      ],
      "text/plain": [
       "       AGE  SEX  INF_ANAM  STENOK_AN  FK_STENOK  IBS_POST  IBS_NASL   GB  \\\n",
       "580   50.0    0       0.0        6.0        2.0       2.0       1.0  2.0   \n",
       "1420  70.0    0       1.0        1.0        2.0       1.0       NaN  2.0   \n",
       "645   50.0    1       0.0        0.0        0.0       0.0       NaN  2.0   \n",
       "875   40.0    1       0.0        1.0        2.0       1.0       NaN  3.0   \n",
       "446   63.0    0       0.0        0.0        0.0       0.0       NaN  2.0   \n",
       "...    ...  ...       ...        ...        ...       ...       ...  ...   \n",
       "1228  62.0    1       0.0        4.0        2.0       1.0       NaN  0.0   \n",
       "471   43.0    1       1.0        0.0        0.0       2.0       NaN  0.0   \n",
       "322   69.0    1       0.0        0.0        0.0       0.0       0.0  0.0   \n",
       "1235  80.0    0       0.0        0.0        0.0       2.0       NaN  2.0   \n",
       "660   63.0    1       1.0        6.0        2.0       1.0       NaN  3.0   \n",
       "\n",
       "      SIM_GIPERT  DLIT_AG  ...  NOT_NA_1_n  NOT_NA_2_n  NOT_NA_3_n  LID_S_n  \\\n",
       "580          0.0      7.0  ...         0.0         0.0         0.0      0.0   \n",
       "1420         0.0      7.0  ...         0.0         0.0         0.0      0.0   \n",
       "645          0.0      1.0  ...         0.0         0.0         0.0      1.0   \n",
       "875          0.0      5.0  ...         0.0         0.0         0.0      0.0   \n",
       "446          0.0      NaN  ...         0.0         0.0         0.0      0.0   \n",
       "...          ...      ...  ...         ...         ...         ...      ...   \n",
       "1228         0.0      0.0  ...         0.0         0.0         0.0      0.0   \n",
       "471          0.0      0.0  ...         0.0         0.0         0.0      0.0   \n",
       "322          0.0      0.0  ...         0.0         0.0         0.0      0.0   \n",
       "1235         0.0      6.0  ...         0.0         0.0         0.0      0.0   \n",
       "660          0.0      7.0  ...         0.0         0.0         0.0      0.0   \n",
       "\n",
       "      B_BLOK_S_n  ANT_CA_S_n  GEPAR_S_n  ASP_S_n  TIKL_S_n  TRENT_S_n  \n",
       "580          0.0         0.0        1.0      1.0       0.0        0.0  \n",
       "1420         0.0         0.0        1.0      1.0       0.0        0.0  \n",
       "645          0.0         1.0        1.0      1.0       0.0        1.0  \n",
       "875          0.0         1.0        1.0      0.0       0.0        0.0  \n",
       "446          0.0         1.0        1.0      1.0       0.0        0.0  \n",
       "...          ...         ...        ...      ...       ...        ...  \n",
       "1228         0.0         0.0        1.0      1.0       0.0        0.0  \n",
       "471          0.0         1.0        0.0      0.0       0.0        1.0  \n",
       "322          0.0         1.0        1.0      1.0       0.0        0.0  \n",
       "1235         0.0         1.0        1.0      1.0       0.0        0.0  \n",
       "660          0.0         1.0        1.0      0.0       0.0        1.0  \n",
       "\n",
       "[1413 rows x 111 columns]"
      ]
     },
     "execution_count": 13,
     "metadata": {},
     "output_type": "execute_result"
    }
   ],
   "source": [
    "x_test"
   ]
  },
  {
   "cell_type": "code",
   "execution_count": 14,
   "id": "f854faca-7d88-44ba-bf5c-cd983c3f799a",
   "metadata": {},
   "outputs": [
    {
     "data": {
      "text/plain": [
       "array([0, 0, 0, ..., 0, 0, 0], dtype=int64)"
      ]
     },
     "execution_count": 14,
     "metadata": {},
     "output_type": "execute_result"
    }
   ],
   "source": [
    "y_test"
   ]
  },
  {
   "cell_type": "code",
   "execution_count": null,
   "id": "8be00826-710a-4d31-87c4-9a5cc8f3dd85",
   "metadata": {},
   "outputs": [],
   "source": []
  },
  {
   "cell_type": "markdown",
   "id": "691bac9c-4d3e-430e-9c29-9606f4e24991",
   "metadata": {},
   "source": [
    "# Pre-processing"
   ]
  },
  {
   "cell_type": "code",
   "execution_count": 15,
   "id": "ef953f87-e554-4ed9-a456-669c8f61ddd8",
   "metadata": {},
   "outputs": [
    {
     "data": {
      "text/plain": [
       "array(['AGE', 'SEX', 'INF_ANAM', 'STENOK_AN', 'FK_STENOK', 'IBS_POST',\n",
       "       'IBS_NASL', 'GB', 'SIM_GIPERT', 'DLIT_AG', 'ZSN_A', 'nr_11',\n",
       "       'nr_01', 'nr_02', 'nr_03', 'nr_04', 'nr_07', 'nr_08', 'np_01',\n",
       "       'np_04', 'np_05', 'np_07', 'np_08', 'np_09', 'np_10', 'endocr_01',\n",
       "       'endocr_02', 'endocr_03', 'zab_leg_01', 'zab_leg_02', 'zab_leg_03',\n",
       "       'zab_leg_04', 'zab_leg_06', 'S_AD_KBRIG', 'D_AD_KBRIG',\n",
       "       'S_AD_ORIT', 'D_AD_ORIT', 'O_L_POST', 'K_SH_POST', 'MP_TP_POST',\n",
       "       'SVT_POST', 'GT_POST', 'FIB_G_POST', 'ant_im', 'lat_im', 'inf_im',\n",
       "       'post_im', 'IM_PG_P', 'ritm_ecg_p_01', 'ritm_ecg_p_02',\n",
       "       'ritm_ecg_p_04', 'ritm_ecg_p_06', 'ritm_ecg_p_07', 'ritm_ecg_p_08',\n",
       "       'n_r_ecg_p_01', 'n_r_ecg_p_02', 'n_r_ecg_p_03', 'n_r_ecg_p_04',\n",
       "       'n_r_ecg_p_05', 'n_r_ecg_p_06', 'n_r_ecg_p_08', 'n_r_ecg_p_09',\n",
       "       'n_r_ecg_p_10', 'n_p_ecg_p_01', 'n_p_ecg_p_03', 'n_p_ecg_p_04',\n",
       "       'n_p_ecg_p_05', 'n_p_ecg_p_06', 'n_p_ecg_p_07', 'n_p_ecg_p_08',\n",
       "       'n_p_ecg_p_09', 'n_p_ecg_p_10', 'n_p_ecg_p_11', 'n_p_ecg_p_12',\n",
       "       'fibr_ter_01', 'fibr_ter_02', 'fibr_ter_03', 'fibr_ter_05',\n",
       "       'fibr_ter_06', 'fibr_ter_07', 'fibr_ter_08', 'GIPO_K', 'K_BLOOD',\n",
       "       'GIPER_NA', 'NA_BLOOD', 'ALT_BLOOD', 'AST_BLOOD', 'KFK_BLOOD',\n",
       "       'L_BLOOD', 'ROE', 'TIME_B_S', 'R_AB_1_n', 'R_AB_2_n', 'R_AB_3_n',\n",
       "       'NA_KB', 'NOT_NA_KB', 'LID_KB', 'NITR_S', 'NA_R_1_n', 'NA_R_2_n',\n",
       "       'NA_R_3_n', 'NOT_NA_1_n', 'NOT_NA_2_n', 'NOT_NA_3_n', 'LID_S_n',\n",
       "       'B_BLOK_S_n', 'ANT_CA_S_n', 'GEPAR_S_n', 'ASP_S_n', 'TIKL_S_n',\n",
       "       'TRENT_S_n'], dtype=object)"
      ]
     },
     "execution_count": 15,
     "metadata": {},
     "output_type": "execute_result"
    }
   ],
   "source": [
    "feature_cols = np.array(x_train.columns[~np.isin(x_train.columns, ID_COLS+TARGET_COLS)])\n",
    "feature_cols"
   ]
  },
  {
   "cell_type": "code",
   "execution_count": 16,
   "id": "1109b4f5-4d71-4db9-b6aa-e56608d407b9",
   "metadata": {},
   "outputs": [],
   "source": [
    "# Data cleaning:\n",
    "features_cleaner = ColumnTransformer([\n",
    "                        (\"features cleaning\", SimpleImputer(missing_values=np.nan, strategy='constant', fill_value=-1), feature_cols),\n",
    "                        ])\n"
   ]
  },
  {
   "cell_type": "code",
   "execution_count": 17,
   "id": "b866a4ac-dacb-4266-b41a-1e90123d9a88",
   "metadata": {},
   "outputs": [],
   "source": [
    "# Pre-processing pipeline:\n",
    "preprocessor = Pipeline([('data cleaning', features_cleaner),\n",
    "                         ])\n",
    "\n"
   ]
  },
  {
   "cell_type": "code",
   "execution_count": 18,
   "id": "0fd12267-6d47-4c03-9314-4aa8f7d083c8",
   "metadata": {},
   "outputs": [
    {
     "data": {
      "text/plain": [
       "array([[71.,  0.,  1., ...,  0.,  0.,  1.],\n",
       "       [76.,  1.,  1., ...,  0.,  0.,  1.],\n",
       "       [61.,  1.,  1., ...,  1.,  0.,  0.],\n",
       "       ...,\n",
       "       [72.,  1.,  1., ..., -1., -1., -1.],\n",
       "       [63.,  0.,  3., ...,  0.,  0.,  0.],\n",
       "       [64.,  0.,  1., ...,  0.,  0.,  1.]])"
      ]
     },
     "execution_count": 18,
     "metadata": {},
     "output_type": "execute_result"
    }
   ],
   "source": [
    "x_train_encoded = preprocessor.fit_transform(x_train)\n",
    "x_train_encoded"
   ]
  },
  {
   "cell_type": "code",
   "execution_count": 19,
   "id": "0ca47d0c-2e71-4faa-a282-3b26ae79ec2f",
   "metadata": {},
   "outputs": [
    {
     "data": {
      "text/plain": [
       "array([[50.,  0.,  0., ...,  1.,  0.,  0.],\n",
       "       [70.,  0.,  1., ...,  1.,  0.,  0.],\n",
       "       [50.,  1.,  0., ...,  1.,  0.,  1.],\n",
       "       ...,\n",
       "       [69.,  1.,  0., ...,  1.,  0.,  0.],\n",
       "       [80.,  0.,  0., ...,  1.,  0.,  0.],\n",
       "       [63.,  1.,  1., ...,  0.,  0.,  1.]])"
      ]
     },
     "execution_count": 19,
     "metadata": {},
     "output_type": "execute_result"
    }
   ],
   "source": [
    "x_test_encoded = preprocessor.transform(x_test)\n",
    "x_test_encoded"
   ]
  },
  {
   "cell_type": "code",
   "execution_count": null,
   "id": "0d48aa08-feba-4fb9-8b85-12232ca96b3e",
   "metadata": {},
   "outputs": [],
   "source": []
  },
  {
   "cell_type": "markdown",
   "id": "b73842c6-259a-454a-897b-2fe05d823580",
   "metadata": {},
   "source": [
    "# Plottting Embeddings:"
   ]
  },
  {
   "cell_type": "code",
   "execution_count": 20,
   "id": "f7d2d468-bb05-4167-804d-b30eb5a08986",
   "metadata": {},
   "outputs": [
    {
     "data": {
      "image/png": "[encoded data removed]",
      "text/plain": [
       "<Figure size 864x432 with 2 Axes>"
      ]
     },
     "metadata": {
      "needs_background": "light"
     },
     "output_type": "display_data"
    }
   ],
   "source": [
    "vis.plot_embeddings(x_train_encoded, y_train)"
   ]
  },
  {
   "cell_type": "code",
   "execution_count": null,
   "id": "0b526a33-feec-425f-ab4d-9a439e66467b",
   "metadata": {},
   "outputs": [],
   "source": []
  },
  {
   "cell_type": "markdown",
   "id": "913faac1-e1d2-4bf9-84bf-201b29d3da27",
   "metadata": {},
   "source": [
    "# Dealing with the imbalance"
   ]
  },
  {
   "cell_type": "code",
   "execution_count": 21,
   "id": "e2b4187e-9031-49a1-bcc1-6cae102e34cb",
   "metadata": {},
   "outputs": [
    {
     "name": "stdout",
     "output_type": "stream",
     "text": [
      "Original train dataset  classes distribution: Counter({0: 100, 1: 76, 3: 38, 6: 20, 7: 16, 2: 15, 4: 14, 5: 8})\n",
      "Resampled train dataset classes distribution: Counter({0: 100, 3: 100, 1: 100, 6: 100, 5: 100, 2: 100, 4: 100, 7: 100})\n"
     ]
    }
   ],
   "source": [
    "print('Original train dataset  classes distribution:', Counter(y_train))\n",
    "\n",
    "sm = SMOTE(random_state=42, k_neighbors=5)\n",
    "x_train_encoded, y_train = sm.fit_resample(x_train_encoded, y_train)\n",
    "# ada = ADASYN(random_state=42, n_neighbors=5)\n",
    "# x_train_encoded, y_train = ada.fit_resample(x_train_encoded, y_train)\n",
    "\n",
    "print('Resampled train dataset classes distribution:', Counter(y_train))"
   ]
  },
  {
   "cell_type": "code",
   "execution_count": 22,
   "id": "4e912b2b-2a1d-475c-8ce0-b21e79940b66",
   "metadata": {},
   "outputs": [
    {
     "name": "stdout",
     "output_type": "stream",
     "text": [
      "Original test dataset classes distribution: Counter({0: 1329, 1: 34, 3: 16, 7: 11, 4: 9, 6: 7, 5: 4, 2: 3})\n"
     ]
    }
   ],
   "source": [
    "print('Original test dataset classes distribution:', Counter(y_test))"
   ]
  },
  {
   "cell_type": "code",
   "execution_count": null,
   "id": "bf54e54d-f4bf-4c58-b5e7-163ef657d5b9",
   "metadata": {},
   "outputs": [],
   "source": []
  },
  {
   "cell_type": "markdown",
   "id": "1ec62806-ce23-4541-b9a1-d3c9a758ff0a",
   "metadata": {},
   "source": [
    "# Plottting Embeddings (after re-balancing):"
   ]
  },
  {
   "cell_type": "code",
   "execution_count": 23,
   "id": "f4c14d82-32e1-4f29-8fad-2d6f38702d5e",
   "metadata": {},
   "outputs": [
    {
     "data": {
      "image/png": "[encoded data removed]",
      "text/plain": [
       "<Figure size 864x432 with 2 Axes>"
      ]
     },
     "metadata": {
      "needs_background": "light"
     },
     "output_type": "display_data"
    }
   ],
   "source": [
    "vis.plot_embeddings(x_train_encoded, y_train)"
   ]
  },
  {
   "cell_type": "code",
   "execution_count": null,
   "id": "e2527b23-5177-43d8-b5b4-2003a64ce64f",
   "metadata": {},
   "outputs": [],
   "source": []
  },
  {
   "cell_type": "markdown",
   "id": "b590f9f9-ebce-443c-b970-87304575402c",
   "metadata": {},
   "source": [
    "# Training a basic model"
   ]
  },
  {
   "cell_type": "code",
   "execution_count": 23,
   "id": "61ace084-dc91-47c3-8b7a-f5856fc59c42",
   "metadata": {},
   "outputs": [],
   "source": [
    "n_jobs = 4"
   ]
  },
  {
   "cell_type": "code",
   "execution_count": 24,
   "id": "00ed3e37-6e18-432f-96a7-c12706182b79",
   "metadata": {},
   "outputs": [
    {
     "name": "stdout",
     "output_type": "stream",
     "text": [
      "Fitting 5 folds for each of 50 candidates, totalling 250 fits\n"
     ]
    },
    {
     "data": {
      "text/plain": [
       "RandomizedSearchCV(estimator=RandomForestClassifier(), n_iter=50, n_jobs=4,\n",
       "                   param_distributions={'bootstrap': [False, True],\n",
       "                                        'max_depth': [80, 90, 100, 110],\n",
       "                                        'max_features': [2, 3],\n",
       "                                        'min_samples_leaf': [3, 4, 5],\n",
       "                                        'min_samples_split': [8, 10, 12],\n",
       "                                        'n_estimators': [10, 50, 100, 200, 300,\n",
       "                                                         500]},\n",
       "                   scoring='balanced_accuracy', verbose=1)"
      ]
     },
     "execution_count": 24,
     "metadata": {},
     "output_type": "execute_result"
    }
   ],
   "source": [
    "# Random Forest:\n",
    "param_grid = {'bootstrap': [False, True],\n",
    "              'max_depth': [80, 90, 100, 110],\n",
    "              'max_features': [2, 3],\n",
    "              'min_samples_leaf': [3, 4, 5],\n",
    "              'min_samples_split': [8, 10, 12],\n",
    "              'n_estimators': [10, 50, 100, 200, 300, 500]}\n",
    "\n",
    "rf_clf = RandomizedSearchCV(RandomForestClassifier(), param_distributions=param_grid, n_iter=50,\n",
    "                            scoring='balanced_accuracy', n_jobs=n_jobs, verbose=1)\n",
    "rf_clf.fit(x_train_encoded, y_train)"
   ]
  },
  {
   "cell_type": "code",
   "execution_count": 25,
   "id": "19a2a0bc-d0ec-4296-9e80-c75b0fb77eed",
   "metadata": {},
   "outputs": [
    {
     "name": "stdout",
     "output_type": "stream",
     "text": [
      "Fitting 5 folds for each of 50 candidates, totalling 250 fits\n"
     ]
    },
    {
     "name": "stderr",
     "output_type": "stream",
     "text": [
      "c:\\users\\weldl\\miniconda3\\envs\\work\\lib\\site-packages\\sklearn\\model_selection\\_search.py:922: UserWarning: One or more of the test scores are non-finite: [0.82375 0.53    0.5025      nan     nan 0.6825  0.6525  0.85375     nan\n",
      " 0.62125 0.78875 0.8625      nan     nan     nan 0.5125  0.78625     nan\n",
      " 0.74875 0.57    0.27    0.88125 0.88375     nan 0.5025      nan 0.56875\n",
      " 0.87875 0.22125 0.8375  0.8825  0.43625 0.88375 0.635   0.88125     nan\n",
      " 0.48125     nan 0.88125 0.83    0.43875 0.8775      nan 0.45125     nan\n",
      "     nan     nan     nan 0.5275  0.35375]\n",
      "  warnings.warn(\n"
     ]
    },
    {
     "data": {
      "text/plain": [
       "RandomizedSearchCV(estimator=LogisticRegression(), n_iter=50, n_jobs=4,\n",
       "                   param_distributions={'C': [0.001, 0.01, 0.1, 1, 10, 100,\n",
       "                                              1000],\n",
       "                                        'max_iter': [100, 200, 300, 400, 500,\n",
       "                                                     600, 700],\n",
       "                                        'penalty': ['l1', 'l2'],\n",
       "                                        'solver': ['newton-cg', 'lbfgs',\n",
       "                                                   'liblinear', 'sag',\n",
       "                                                   'saga']},\n",
       "                   scoring='balanced_accuracy', verbose=1)"
      ]
     },
     "execution_count": 25,
     "metadata": {},
     "output_type": "execute_result"
    }
   ],
   "source": [
    "# Logistic Regression:\n",
    "param_grid = {'C': [0.001, 0.01, 0.1, 1, 10, 100, 1000],\n",
    "              'penalty': ['l1', 'l2'],\n",
    "              'max_iter': list(range(100,800,100)),\n",
    "               'solver': ['newton-cg', 'lbfgs', 'liblinear', 'sag', 'saga']\n",
    "             }\n",
    "\n",
    "lr_clf = RandomizedSearchCV(LogisticRegression(), param_distributions=param_grid, n_iter=50,\n",
    "                            scoring='balanced_accuracy', n_jobs=n_jobs, verbose=1)\n",
    "lr_clf.fit(x_train_encoded, y_train)"
   ]
  },
  {
   "cell_type": "code",
   "execution_count": 26,
   "id": "cb7dbfa7-0eaa-43d5-9fa3-f254266f22a3",
   "metadata": {},
   "outputs": [
    {
     "name": "stdout",
     "output_type": "stream",
     "text": [
      "Fitting 5 folds for each of 50 candidates, totalling 250 fits\n"
     ]
    },
    {
     "data": {
      "text/plain": [
       "RandomizedSearchCV(estimator=SVC(), n_iter=50, n_jobs=4,\n",
       "                   param_distributions={'C': [0.1, 1, 10, 100, 1000],\n",
       "                                        'degree': [1, 2, 3, 4, 5],\n",
       "                                        'gamma': [1, 0.1, 0.01, 0.001, 0.0001],\n",
       "                                        'kernel': ['linear', 'poly', 'rbf',\n",
       "                                                   'sigmoid']},\n",
       "                   scoring='balanced_accuracy', verbose=1)"
      ]
     },
     "execution_count": 26,
     "metadata": {},
     "output_type": "execute_result"
    }
   ],
   "source": [
    "# SVM:\n",
    "param_grid = {'C': [0.1, 1, 10, 100, 1000], \n",
    "              'gamma': [1, 0.1, 0.01, 0.001, 0.0001],\n",
    "              'kernel': ['linear', 'poly', 'rbf', 'sigmoid'],\n",
    "              'degree': [1, 2, 3, 4, 5],\n",
    "             }\n",
    "\n",
    "svm_clf = RandomizedSearchCV(SVC(), param_distributions=param_grid, n_iter=50,\n",
    "                             scoring='balanced_accuracy', n_jobs=n_jobs, verbose=1)\n",
    "svm_clf.fit(x_train_encoded, y_train)"
   ]
  },
  {
   "cell_type": "code",
   "execution_count": 27,
   "id": "93d3ca66-98f1-47f7-b1fe-212ae59d91c6",
   "metadata": {},
   "outputs": [
    {
     "data": {
      "image/png": "[encoded data removed]",
      "text/plain": [
       "<Figure size 576x288 with 1 Axes>"
      ]
     },
     "metadata": {
      "needs_background": "light"
     },
     "output_type": "display_data"
    }
   ],
   "source": [
    "estimators_list = [rf_clf, lr_clf, svm_clf]\n",
    "ev.plot_estimators_cvperf(estimators_list)"
   ]
  },
  {
   "cell_type": "code",
   "execution_count": 28,
   "id": "865b61d9-e0f5-404c-b6c4-5c395a431132",
   "metadata": {},
   "outputs": [
    {
     "data": {
      "text/plain": [
       "SVC(C=100, degree=2, gamma=0.1, kernel='poly')"
      ]
     },
     "execution_count": 28,
     "metadata": {},
     "output_type": "execute_result"
    }
   ],
   "source": [
    "model = estimators_list[np.argmax([pd.DataFrame(m.cv_results_)['mean_test_score'].dropna().max() for m in estimators_list])].best_estimator_\n",
    "model.fit(x_train_encoded, y_train)"
   ]
  },
  {
   "cell_type": "code",
   "execution_count": null,
   "id": "f1d87643-2433-436b-8c9b-da185c28f992",
   "metadata": {},
   "outputs": [],
   "source": []
  },
  {
   "cell_type": "markdown",
   "id": "e0feb70a-2761-45b5-bf6e-acee9279d3c4",
   "metadata": {},
   "source": [
    "# Evaluating the model:"
   ]
  },
  {
   "cell_type": "code",
   "execution_count": 29,
   "id": "0a1bbe59-64a2-495a-b60f-e0e6366d03f6",
   "metadata": {},
   "outputs": [
    {
     "name": "stdout",
     "output_type": "stream",
     "text": [
      "Classes evaluated: ['0', '1', '2', '3', '4', '5', '6', '7']\n",
      "Correctly classified......: 986/1413\n",
      "Accuracy (simple) ........: 0.70\n",
      "Balanced acc.  ...........: 0.29\n",
      "Balanced acc. (adjusted)..: 0.19\n",
      "Acc. norm (Recall avgs) ..: 0.29\n",
      "Precision = tp / (tp + fp): [0.97 0.12 0.04 0.06 0.04 0.   0.   0.  ] -> accuracy of positive predictions\n",
      "Recall    = tp / (tp + fn): [0.72 0.44 0.67 0.38 0.11 0.   0.   0.  ] -> sensibility (true positive rate)\n",
      "F1 score .................: [0.83 0.19 0.08 0.11 0.06 0.   0.   0.  ] -> harmonic mean\n"
     ]
    },
    {
     "data": {
      "image/png": "[encoded data removed]",
      "text/plain": [
       "<Figure size 1008x576 with 4 Axes>"
      ]
     },
     "metadata": {
      "needs_background": "light"
     },
     "output_type": "display_data"
    }
   ],
   "source": [
    "y_pred = model.predict(x_test_encoded)\n",
    "test_metrics = ev.performance_measures(y_test, y_pred)"
   ]
  },
  {
   "cell_type": "code",
   "execution_count": 30,
   "id": "5b09ebbc-8ad5-47ed-aeec-bc82a5b4b5f0",
   "metadata": {},
   "outputs": [
    {
     "data": {
      "image/png": "[encoded data removed]",
      "text/plain": [
       "<Figure size 708.661x425.197 with 2 Axes>"
      ]
     },
     "metadata": {
      "needs_background": "light"
     },
     "output_type": "display_data"
    }
   ],
   "source": [
    "ev.plot_classification_report(y_test, y_pred)"
   ]
  },
  {
   "cell_type": "code",
   "execution_count": null,
   "id": "a33c705a-ed32-4bc2-a246-54b33b5962f8",
   "metadata": {},
   "outputs": [],
   "source": []
  }
 ],
 "metadata": {
  "kernelspec": {
   "display_name": "Python 3",
   "language": "python",
   "name": "python3"
  },
  "language_info": {
   "codemirror_mode": {
    "name": "ipython",
    "version": 3
   },
   "file_extension": ".py",
   "mimetype": "text/x-python",
   "name": "python",
   "nbconvert_exporter": "python",
   "pygments_lexer": "ipython3",
   "version": "3.8.5"
  }
 },
 "nbformat": 4,
 "nbformat_minor": 5
}
